{
 "cells": [
  {
   "cell_type": "code",
   "execution_count": 1,
   "metadata": {},
   "outputs": [],
   "source": [
    "import pandas as pd                              #Para la base de datos\n",
    "from string import ascii_uppercase as abecedario #Para los grupos (abecedario)\n",
    "import pickle                                    #guardar el estado de un objeto en disco o transmitirlo a través de una red y luego reconstruirlo más tarde en otro lugar o en otra sesión de Python"
   ]
  },
  {
   "cell_type": "code",
   "execution_count": 2,
   "metadata": {},
   "outputs": [],
   "source": [
    "todas_tablas = pd.read_html('https://web.archive.org/web/20230108182356/https://es.wikipedia.org/wiki/Copa_Mundial_Femenina_de_F%C3%BAtbol_de_2023', encoding=\"utf-8\")"
   ]
  },
  {
   "cell_type": "code",
   "execution_count": null,
   "metadata": {},
   "outputs": [],
   "source": [
    "# todas_tablas[15]"
   ]
  },
  {
   "cell_type": "code",
   "execution_count": null,
   "metadata": {},
   "outputs": [],
   "source": [
    "# todas_tablas[15].columns[0] ---> al ejecutar código nos muestra el NOMBRE de COLUMNA \"Equipo\"\n",
    "'''Aplicaremos a nuestro código inicial'''\n",
    "# for i in range (15,71,7):\n",
    "    # print(i)"
   ]
  },
  {
   "cell_type": "code",
   "execution_count": null,
   "metadata": {},
   "outputs": [],
   "source": [
    "'''Probamos lo que acabamos de importar con string'''\n",
    "# for letra, i in zip(abecedario,range (15,71,7)):\n",
    "    # print(letra, i)\n",
    "'''Adjuntamos a nuestra codigo principal'''"
   ]
  },
  {
   "cell_type": "code",
   "execution_count": 4,
   "metadata": {},
   "outputs": [],
   "source": [
    "todas_tablas = pd.read_html('https://web.archive.org/web/20230108182356/https://es.wikipedia.org/wiki/Copa_Mundial_Femenina_de_F%C3%BAtbol_de_2023', encoding=\"utf-8\")\n",
    "\n",
    "\n",
    "dict_grupos ={}\n",
    "for letra, i in zip(abecedario,range (15,71,7)):\n",
    "    df = todas_tablas[i]\n",
    "    df.rename(columns={df.columns[0]:\"Países\"}, inplace=True)   #df.rename(columns={\"Equipo\":\"Países\"})->solo si todas las columnas tienen el mismo nombre // inplace ->permite guardar los cambios\n",
    "                                                                # Opcionial df.pop(\"xxxx\"), si hubiese una columna de más\n",
    "    #print(df)\n",
    "    dict_grupos [f\"Grupo {letra}\"] = df    "
   ]
  },
  {
   "cell_type": "code",
   "execution_count": null,
   "metadata": {},
   "outputs": [],
   "source": [
    "# dict_grupos.keys()\n",
    "dict_grupos[\"Grupo H\"]"
   ]
  },
  {
   "cell_type": "code",
   "execution_count": 43,
   "metadata": {},
   "outputs": [],
   "source": [
    "with open('dict_groups', 'wb') as output:\n",
    "    pickle.dump(dict_grupos, output) "
   ]
  }
 ],
 "metadata": {
  "kernelspec": {
   "display_name": "Python 3",
   "language": "python",
   "name": "python3"
  },
  "language_info": {
   "codemirror_mode": {
    "name": "ipython",
    "version": 3
   },
   "file_extension": ".py",
   "mimetype": "text/x-python",
   "name": "python",
   "nbconvert_exporter": "python",
   "pygments_lexer": "ipython3",
   "version": "3.11.1"
  },
  "orig_nbformat": 4,
  "vscode": {
   "interpreter": {
    "hash": "466274dbaf9e5d6cfc9f21a847e1c91c5c2f8359f503a2adba1c114f7717b98b"
   }
  }
 },
 "nbformat": 4,
 "nbformat_minor": 2
}
