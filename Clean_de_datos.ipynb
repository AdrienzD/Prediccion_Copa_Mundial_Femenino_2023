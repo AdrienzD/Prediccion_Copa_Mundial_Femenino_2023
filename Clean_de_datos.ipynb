{
 "cells": [
  {
   "attachments": {},
   "cell_type": "markdown",
   "metadata": {},
   "source": [
    "Limpiando data"
   ]
  },
  {
   "cell_type": "code",
   "execution_count": 28,
   "metadata": {},
   "outputs": [],
   "source": [
    "import pandas as pd"
   ]
  },
  {
   "cell_type": "code",
   "execution_count": 29,
   "metadata": {},
   "outputs": [],
   "source": [
    "df_data_historica = pd.read_csv(\"fifa_worldcup_historial_data.csv\")\n",
    "df_fixture = pd.read_csv(\"fifa_worldcup_fixture.csv\")\n",
    "df_fixture_faltante = pd.read_csv(\"fifa_worldcup_fixture_faltante.csv\")"
   ]
  },
  {
   "attachments": {},
   "cell_type": "markdown",
   "metadata": {},
   "source": [
    "Limpiando df_fixture"
   ]
  },
  {
   "cell_type": "code",
   "execution_count": null,
   "metadata": {},
   "outputs": [],
   "source": [
    "df_fixture[\"Local\"].str.strip()"
   ]
  },
  {
   "cell_type": "code",
   "execution_count": null,
   "metadata": {},
   "outputs": [],
   "source": [
    "df_fixture[\"Visita\"].str.strip()"
   ]
  },
  {
   "attachments": {},
   "cell_type": "markdown",
   "metadata": {},
   "source": [
    "Limpiando data faltante (vacía) de df_fixture"
   ]
  },
  {
   "cell_type": "code",
   "execution_count": 34,
   "metadata": {},
   "outputs": [],
   "source": [
    "df_fixture[df_fixture[\"Local\"].isnull()]\n",
    "df_fixture.dropna(inplace=True)"
   ]
  },
  {
   "attachments": {},
   "cell_type": "markdown",
   "metadata": {},
   "source": [
    "Usamos df_data_faltante"
   ]
  },
  {
   "cell_type": "code",
   "execution_count": null,
   "metadata": {},
   "outputs": [],
   "source": [
    "df_fixture[\"Local\"].str.strip()"
   ]
  },
  {
   "cell_type": "code",
   "execution_count": null,
   "metadata": {},
   "outputs": [],
   "source": [
    "df_fixture[\"Visita\"].str.strip()"
   ]
  },
  {
   "attachments": {},
   "cell_type": "markdown",
   "metadata": {},
   "source": [
    "COMBINAMOS Y ELIMINAMOS DUPLICADOS DE DF_FIXTURE Y DE DF_FALTANTE"
   ]
  },
  {
   "cell_type": "code",
   "execution_count": 40,
   "metadata": {},
   "outputs": [],
   "source": [
    "df_fixture = pd.concat([df_fixture, df_fixture_faltante], ignore_index=True)"
   ]
  },
  {
   "cell_type": "code",
   "execution_count": 41,
   "metadata": {},
   "outputs": [],
   "source": [
    "#Culminamos haciendo la eliminación de duplicados\n",
    "df_fixture.drop_duplicates(inplace=True)"
   ]
  },
  {
   "attachments": {},
   "cell_type": "markdown",
   "metadata": {},
   "source": [
    "Limpiando data histórica"
   ]
  },
  {
   "cell_type": "code",
   "execution_count": null,
   "metadata": {},
   "outputs": [],
   "source": [
    "#Expresiones regulares, [^\\d-] -> cualquier carácter que no sea dígito ni guion medio\n",
    "df_data_historica[df_data_historica[\"Marcador\"].str.contains(\"[^\\d-]\")]"
   ]
  },
  {
   "cell_type": "code",
   "execution_count": 45,
   "metadata": {},
   "outputs": [],
   "source": [
    "#Solo nos quedaremos con el score final de cada partido, antes de los paréntesis\n",
    "df_data_historica['Marcador'] = df_data_historica['Marcador'].str.split(' ').str[0]"
   ]
  },
  {
   "cell_type": "code",
   "execution_count": null,
   "metadata": {},
   "outputs": [],
   "source": [
    "#Verificamos\n",
    "df_data_historica"
   ]
  },
  {
   "cell_type": "code",
   "execution_count": 47,
   "metadata": {},
   "outputs": [],
   "source": [
    "#Expandimos nuestro \"Marcador\" a dos columnas\n",
    "df_data_historica[[\"Goles(Local)\",\"Goles(Visita)\"]] = df_data_historica['Marcador'].str.split(':', expand=True)"
   ]
  },
  {
   "cell_type": "code",
   "execution_count": 48,
   "metadata": {},
   "outputs": [],
   "source": [
    "df_data_historica\n",
    "#Eliminamos axis \"Marcador\"\n",
    "df_data_historica.drop(\"Marcador\", axis=1, inplace=True)"
   ]
  },
  {
   "cell_type": "code",
   "execution_count": null,
   "metadata": {},
   "outputs": [],
   "source": [
    "df_data_historica"
   ]
  },
  {
   "cell_type": "code",
   "execution_count": 50,
   "metadata": {},
   "outputs": [],
   "source": [
    "df_data_historica.rename(columns={\"Local\":\"Pais(L)\",\"Visita\":\"Pais(V)\",\"year\":\"Year\"}, inplace=True)"
   ]
  },
  {
   "cell_type": "code",
   "execution_count": null,
   "metadata": {},
   "outputs": [],
   "source": [
    "#Goles de txt a int\n",
    "df_data_historica.dtypes"
   ]
  },
  {
   "cell_type": "code",
   "execution_count": 52,
   "metadata": {},
   "outputs": [],
   "source": [
    "df_data_historica = df_data_historica.astype({\"Goles(Local)\":int, \"Goles(Visita)\":int})"
   ]
  },
  {
   "cell_type": "code",
   "execution_count": null,
   "metadata": {},
   "outputs": [],
   "source": [
    "df_data_historica.dtypes"
   ]
  },
  {
   "cell_type": "code",
   "execution_count": 54,
   "metadata": {},
   "outputs": [],
   "source": [
    "\"Realizamos suma total de goles\"\n",
    "df_data_historica[\"Goles_Totales\"] = df_data_historica[\"Goles(Local)\"] + df_data_historica[\"Goles(Visita)\"]"
   ]
  },
  {
   "cell_type": "code",
   "execution_count": null,
   "metadata": {},
   "outputs": [],
   "source": [
    "df_data_historica"
   ]
  },
  {
   "attachments": {},
   "cell_type": "markdown",
   "metadata": {},
   "source": [
    "Exportamos dataframes limpios"
   ]
  },
  {
   "cell_type": "code",
   "execution_count": 56,
   "metadata": {},
   "outputs": [],
   "source": [
    "df_data_historica.to_csv(\"clean_fifa_worldcup_historial_data.csv\", index=False)"
   ]
  },
  {
   "cell_type": "code",
   "execution_count": 57,
   "metadata": {},
   "outputs": [],
   "source": [
    "df_fixture.to_csv(\"clean_fifa_worldcup_fixture.csv\", index=False)"
   ]
  },
  {
   "cell_type": "code",
   "execution_count": 62,
   "metadata": {},
   "outputs": [
    {
     "name": "stdout",
     "output_type": "stream",
     "text": [
      "1991 26\n",
      "1995 26\n",
      "1999 32\n",
      "2003 32\n",
      "2007 34\n",
      "2011 32\n",
      "2015 52\n",
      "2019 52\n"
     ]
    }
   ],
   "source": [
    "#Partidos jugados por mundial\n",
    "years = [1991, 1995, 1999, 2003, 2007, 2011, 2015, 2019]\n",
    "\n",
    "for year in years:\n",
    "    print(year, len(df_data_historica[df_data_historica[\"Year\"]==year]))"
   ]
  }
 ],
 "metadata": {
  "kernelspec": {
   "display_name": "Python 3",
   "language": "python",
   "name": "python3"
  },
  "language_info": {
   "codemirror_mode": {
    "name": "ipython",
    "version": 3
   },
   "file_extension": ".py",
   "mimetype": "text/x-python",
   "name": "python",
   "nbconvert_exporter": "python",
   "pygments_lexer": "ipython3",
   "version": "3.11.1"
  },
  "orig_nbformat": 4,
  "vscode": {
   "interpreter": {
    "hash": "466274dbaf9e5d6cfc9f21a847e1c91c5c2f8359f503a2adba1c114f7717b98b"
   }
  }
 },
 "nbformat": 4,
 "nbformat_minor": 2
}
